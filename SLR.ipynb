{
  "nbformat": 4,
  "nbformat_minor": 0,
  "metadata": {
    "colab": {
      "provenance": []
    },
    "kernelspec": {
      "name": "python3",
      "display_name": "Python 3"
    },
    "language_info": {
      "name": "python"
    }
  },
  "cells": [
    {
      "cell_type": "code",
      "source": [
        "import numpy as n\n",
        "import matplotlib.pyplot as plt\n",
        "import pandas as p"
      ],
      "metadata": {
        "id": "AyvfJsua51-e"
      },
      "execution_count": 16,
      "outputs": []
    },
    {
      "cell_type": "code",
      "source": [
        "df= p.read_csv(\"/content/Salary_Data.csv\")\n",
        "x=df.iloc[:,:-1].values\n",
        "y=df.iloc[:,-1].values\n",
        "x,y"
      ],
      "metadata": {
        "colab": {
          "base_uri": "https://localhost:8080/"
        },
        "id": "nuRDHxtk6Vdr",
        "outputId": "d5326eb4-ed62-454d-d93e-81c90bacccac"
      },
      "execution_count": 17,
      "outputs": [
        {
          "output_type": "execute_result",
          "data": {
            "text/plain": [
              "(array([[ 1.1],\n",
              "        [ 1.3],\n",
              "        [ 1.5],\n",
              "        [ 2. ],\n",
              "        [ 2.2],\n",
              "        [ 2.9],\n",
              "        [ 3. ],\n",
              "        [ 3.2],\n",
              "        [ 3.2],\n",
              "        [ 3.7],\n",
              "        [ 3.9],\n",
              "        [ 4. ],\n",
              "        [ 4. ],\n",
              "        [ 4.1],\n",
              "        [ 4.5],\n",
              "        [ 4.9],\n",
              "        [ 5.1],\n",
              "        [ 5.3],\n",
              "        [ 5.9],\n",
              "        [ 6. ],\n",
              "        [ 6.8],\n",
              "        [ 7.1],\n",
              "        [ 7.9],\n",
              "        [ 8.2],\n",
              "        [ 8.7],\n",
              "        [ 9. ],\n",
              "        [ 9.5],\n",
              "        [ 9.6],\n",
              "        [10.3],\n",
              "        [10.5]]),\n",
              " array([ 39343.,  46205.,  37731.,  43525.,  39891.,  56642.,  60150.,\n",
              "         54445.,  64445.,  57189.,  63218.,  55794.,  56957.,  57081.,\n",
              "         61111.,  67938.,  66029.,  83088.,  81363.,  93940.,  91738.,\n",
              "         98273., 101302., 113812., 109431., 105582., 116969., 112635.,\n",
              "        122391., 121872.]))"
            ]
          },
          "metadata": {},
          "execution_count": 17
        }
      ]
    },
    {
      "cell_type": "code",
      "source": [
        "#Splitting of dataset into train and test dataset\n",
        "from sklearn.model_selection import train_test_split\n",
        "x_train,x_test,y_train,y_test=train_test_split(x,y,test_size=1/3,random_state=0)\n",
        "x_train,x_test,y_train,y_test"
      ],
      "metadata": {
        "colab": {
          "base_uri": "https://localhost:8080/"
        },
        "id": "r_b1MMVB6pMM",
        "outputId": "db1a9bf3-c537-4039-a08f-4f1cde4f7666"
      },
      "execution_count": 18,
      "outputs": [
        {
          "output_type": "execute_result",
          "data": {
            "text/plain": [
              "(array([[ 2.9],\n",
              "        [ 5.1],\n",
              "        [ 3.2],\n",
              "        [ 4.5],\n",
              "        [ 8.2],\n",
              "        [ 6.8],\n",
              "        [ 1.3],\n",
              "        [10.5],\n",
              "        [ 3. ],\n",
              "        [ 2.2],\n",
              "        [ 5.9],\n",
              "        [ 6. ],\n",
              "        [ 3.7],\n",
              "        [ 3.2],\n",
              "        [ 9. ],\n",
              "        [ 2. ],\n",
              "        [ 1.1],\n",
              "        [ 7.1],\n",
              "        [ 4.9],\n",
              "        [ 4. ]]),\n",
              " array([[ 1.5],\n",
              "        [10.3],\n",
              "        [ 4.1],\n",
              "        [ 3.9],\n",
              "        [ 9.5],\n",
              "        [ 8.7],\n",
              "        [ 9.6],\n",
              "        [ 4. ],\n",
              "        [ 5.3],\n",
              "        [ 7.9]]),\n",
              " array([ 56642.,  66029.,  64445.,  61111., 113812.,  91738.,  46205.,\n",
              "        121872.,  60150.,  39891.,  81363.,  93940.,  57189.,  54445.,\n",
              "        105582.,  43525.,  39343.,  98273.,  67938.,  56957.]),\n",
              " array([ 37731., 122391.,  57081.,  63218., 116969., 109431., 112635.,\n",
              "         55794.,  83088., 101302.]))"
            ]
          },
          "metadata": {},
          "execution_count": 18
        }
      ]
    },
    {
      "cell_type": "code",
      "source": [
        "from sklearn.linear_model import LinearRegression\n",
        "regressor=LinearRegression()\n",
        "regressor.fit(x_train,y_train)\n",
        "x_train,y_train"
      ],
      "metadata": {
        "colab": {
          "base_uri": "https://localhost:8080/"
        },
        "id": "jl_fIi3-7Ww-",
        "outputId": "69e88d22-0c0f-4fb5-c2d4-d403a832362f"
      },
      "execution_count": 19,
      "outputs": [
        {
          "output_type": "execute_result",
          "data": {
            "text/plain": [
              "(array([[ 2.9],\n",
              "        [ 5.1],\n",
              "        [ 3.2],\n",
              "        [ 4.5],\n",
              "        [ 8.2],\n",
              "        [ 6.8],\n",
              "        [ 1.3],\n",
              "        [10.5],\n",
              "        [ 3. ],\n",
              "        [ 2.2],\n",
              "        [ 5.9],\n",
              "        [ 6. ],\n",
              "        [ 3.7],\n",
              "        [ 3.2],\n",
              "        [ 9. ],\n",
              "        [ 2. ],\n",
              "        [ 1.1],\n",
              "        [ 7.1],\n",
              "        [ 4.9],\n",
              "        [ 4. ]]),\n",
              " array([ 56642.,  66029.,  64445.,  61111., 113812.,  91738.,  46205.,\n",
              "        121872.,  60150.,  39891.,  81363.,  93940.,  57189.,  54445.,\n",
              "        105582.,  43525.,  39343.,  98273.,  67938.,  56957.]))"
            ]
          },
          "metadata": {},
          "execution_count": 19
        }
      ]
    },
    {
      "cell_type": "code",
      "source": [
        "y_pred=regressor.predict(x_test)\n",
        "y_pred,y_test"
      ],
      "metadata": {
        "colab": {
          "base_uri": "https://localhost:8080/"
        },
        "id": "UxrUJxNx9Iac",
        "outputId": "cdac77d8-9f3f-4234-bbb1-0fcc6d181490"
      },
      "execution_count": 20,
      "outputs": [
        {
          "output_type": "execute_result",
          "data": {
            "text/plain": [
              "(array([ 40835.10590871, 123079.39940819,  65134.55626083,  63265.36777221,\n",
              "        115602.64545369, 108125.8914992 , 116537.23969801,  64199.96201652,\n",
              "         76349.68719258, 100649.1375447 ]),\n",
              " array([ 37731., 122391.,  57081.,  63218., 116969., 109431., 112635.,\n",
              "         55794.,  83088., 101302.]))"
            ]
          },
          "metadata": {},
          "execution_count": 20
        }
      ]
    },
    {
      "cell_type": "code",
      "source": [
        "plt.scatter(x_train,y_train,color='red')\n",
        "plt.plot(x_test,regressor.predict(x_test),color='blue')\n",
        "plt.title('Salary vs Experience')\n",
        "plt.xlabel('Years of Experience')\n",
        "plt.ylabel('Salary')\n",
        "plt.legend()\n",
        "plt.show()"
      ],
      "metadata": {
        "colab": {
          "base_uri": "https://localhost:8080/",
          "height": 490
        },
        "id": "IWnbC_MZ9SWh",
        "outputId": "19cf5aa9-a589-4684-935b-724f1a3a6daf"
      },
      "execution_count": 21,
      "outputs": [
        {
          "output_type": "stream",
          "name": "stderr",
          "text": [
            "WARNING:matplotlib.legend:No artists with labels found to put in legend.  Note that artists whose label start with an underscore are ignored when legend() is called with no argument.\n"
          ]
        },
        {
          "output_type": "display_data",
          "data": {
            "text/plain": [
              "<Figure size 640x480 with 1 Axes>"
            ],
            "image/png": "[encoded data removed]"
          },
          "metadata": {}
        }
      ]
    },
    {
      "cell_type": "markdown",
      "source": [
        "**bold text**"
      ],
      "metadata": {
        "id": "_L-Q5csLK78X"
      }
    },
    {
      "cell_type": "code",
      "source": [],
      "metadata": {
        "id": "_swF9Who9u2k"
      },
      "execution_count": null,
      "outputs": []
    }
  ]
}